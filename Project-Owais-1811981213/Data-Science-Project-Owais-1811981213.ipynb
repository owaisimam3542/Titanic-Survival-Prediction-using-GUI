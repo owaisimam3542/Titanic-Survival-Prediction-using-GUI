{
 "cells": [
  {
   "cell_type": "code",
   "execution_count": 1,
   "metadata": {},
   "outputs": [
    {
     "name": "stdout",
     "output_type": "stream",
     "text": [
      "Note: you may need to restart the kernel to use updated packages.\n"
     ]
    },
    {
     "name": "stderr",
     "output_type": "stream",
     "text": [
      "ERROR: Could not find a version that satisfies the requirement webbrowser (from versions: none)\n",
      "ERROR: No matching distribution found for webbrowser\n"
     ]
    }
   ],
   "source": [
    "pip install webbrowser"
   ]
  },
  {
   "cell_type": "code",
   "execution_count": null,
   "metadata": {},
   "outputs": [],
   "source": [
    "#import Image\n",
    "import webbrowser\n",
    "\n",
    "# importing all files from tkinter module\n",
    "from tkinter import *\n",
    "\n",
    "\n",
    "# creating root\n",
    "root = Tk()\n",
    "# setting GUI title\n",
    "root.title(\"WebBrowsers\")\n",
    "# setting GUI geometry\n",
    "root.geometry(\"660x660\")\n",
    "# functions to open google colab in browser\n",
    "def p1():\n",
    "    webbrowser.open(\"https://colab.research.google.com/drive/1DdsttGPWIZVzfxDfg4zk1-hStTCzsF5t?usp=sharing\")\n",
    "def p2():\n",
    "    webbrowser.open(\"https://colab.research.google.com/drive/1QREGNzl91n39u6ZxKRgWjeujDfTnrV36?usp=sharing\")\n",
    "def p3():\n",
    "    webbrowser.open(\"https://colab.research.google.com/drive/1UOtXCpGbkaEIb_UKvbkGDorYesGEBn0o?usp=sharing\")\n",
    "def p4():\n",
    "    webbrowser.open(\"https://colab.research.google.com/drive/1wPx9hoye4ycAlxr-0l0Blqs3bv3xudD3?usp=sharing\")\n",
    "def p5():\n",
    "    webbrowser.open(\"https://colab.research.google.com/drive/1OCU3Qw46ygzsZbRg0aooI-kBtXKo6ZS1?usp=sharing\")\n",
    "def p6():\n",
    "    webbrowser.open(\"https://colab.research.google.com/drive/14-5DpJw8gGUkm9QztYuAhL5HGld1TRZK?usp=sharing\")\n",
    "\n",
    "\n",
    "Label(root, text=\"WELCOME TO MY \\nPROJECT\", font=\"Helvtica 25 bold\").pack()\n",
    "Label(root,text=\"Click on the buttons to open my project\",font=\"LUCIDA\").pack()\n",
    "#creating button for each functions\n",
    "# button to call introduction function\n",
    "a = Button(root,text=\"INTRODUCTION\", command=p1,font=\"LUCIDA 15 bold\").pack(padx=20,pady=20)\n",
    "# button to call prediction function\n",
    "b = Button(root, text=\"DATA PREPROCESSING AND PREDICTIONS\", command=p2,font=\"LUCIDA 15 bold\").pack(padx=20,pady=20)\n",
    "# button to call eda  function\n",
    "c = Button(root, text=\"EDA\", command=p3,font=\"LUCIDA 15 bold\").pack(padx=20,pady=20)\n",
    "# button to call data insight  function\n",
    "d = Button(root, text=\"DATA INSIGHT\", command=p4,font=\"LUCIDA 15 bold\").pack(padx=20,pady=20)\n",
    "# button to call data visualisation  function\n",
    "e = Button(root, text=\"DATA VISUALISATION\", command=p5,font=\"LUCIDA 15 bold\").pack(padx=20,pady=20)\n",
    "# button to call conclusion  function\n",
    "f = Button(root, text=\"CONCLUSION\", command=p6,font=\"LUCIDA 15 bold\").pack(padx=20,pady=20)\n",
    "# button to call gmail  function\n",
    "\n",
    "\n",
    "#running the mainloop()\n",
    "root.mainloop()"
   ]
  },
  {
   "cell_type": "code",
   "execution_count": null,
   "metadata": {},
   "outputs": [],
   "source": []
  }
 ],
 "metadata": {
  "kernelspec": {
   "display_name": "Python 3",
   "language": "python",
   "name": "python3"
  },
  "language_info": {
   "codemirror_mode": {
    "name": "ipython",
    "version": 3
   },
   "file_extension": ".py",
   "mimetype": "text/x-python",
   "name": "python",
   "nbconvert_exporter": "python",
   "pygments_lexer": "ipython3",
   "version": "3.8.3"
  }
 },
 "nbformat": 4,
 "nbformat_minor": 4
}
